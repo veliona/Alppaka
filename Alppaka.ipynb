{
 "cells": [
  {
   "cell_type": "markdown",
   "metadata": {
    "collapsed": true
   },
   "source": [
    "# Profitable App Profiles for the App Store and Google Play Markets\n",
    "\n",
    "## What is this project?\n",
    "Analyze data from App Store and Google Play Store to idetify the most profitable mobile apps in order to suggest data-driven decisions type of features or/and products should to be implemented.\n",
    "\n",
    "## What is its goal?\n",
    "Develop essential skills for data analysis in Python.\n",
    "\n",
    "## Next steps\n",
    "- Import pandas and matplotlib\n",
    "- Data visualization\n",
    "- More conclusions\n",
    "\n",
    "## Resources\n",
    "- Dataquest.io:\n",
    "https://app.dataquest.io/m/350/guided-project%3A-profitable-app-profiles-for-the-app-store-and-google-play-markets\n",
    "- App Store data set:\n",
    "https://www.kaggle.com/ramamet4/app-store-apple-data-set-10k-apps/home\n",
    "- Google Play Store data set: https://www.kaggle.com/lava18/google-play-store-apps/home\n",
    "\n"
   ]
  },
  {
   "cell_type": "code",
   "execution_count": 6,
   "metadata": {},
   "outputs": [],
   "source": [
    "from csv import reader\n",
    "\n",
    "#Google Play Store data set\n",
    "opened_file = open('googleplaystore.csv')\n",
    "read_file = reader(opened_file)\n",
    "android = list(read_file)\n",
    "android_header = android[0]\n",
    "android = android[1:]\n",
    "\n",
    "#Apple Store data set\n",
    "opened_file = open('AppleStore.csv')\n",
    "read_file = reader(opened_file)\n",
    "ios = list(read_file)\n",
    "ios_header = ios[0]\n",
    "ios = ios[1:]"
   ]
  },
  {
   "cell_type": "code",
   "execution_count": 7,
   "metadata": {},
   "outputs": [],
   "source": [
    "def explore_data(dataset, start, end, apps_and_columns=False):\n",
    "    dataset_slice = dataset[start:end]    \n",
    "    for app in dataset_slice:\n",
    "        print(app)\n",
    "        print('\\n') # adds a new (empty) line between apps\n",
    "        \n",
    "    if apps_and_columns:\n",
    "        print('Number of apps:', len(dataset))\n",
    "        print('Number of columns:', len(dataset[0]))"
   ]
  },
  {
   "cell_type": "markdown",
   "metadata": {},
   "source": [
    "`explore_data` function helps to increase readablity of data"
   ]
  },
  {
   "cell_type": "code",
   "execution_count": 8,
   "metadata": {},
   "outputs": [
    {
     "name": "stdout",
     "output_type": "stream",
     "text": [
      "['App', 'Category', 'Rating', 'Reviews', 'Size', 'Installs', 'Type', 'Price', 'Content Rating', 'Genres', 'Last Updated', 'Current Ver', 'Android Ver']\n",
      "\n",
      "\n",
      "['Photo Editor & Candy Camera & Grid & ScrapBook', 'ART_AND_DESIGN', '4.1', '159', '19M', '10,000+', 'Free', '0', 'Everyone', 'Art & Design', 'January 7, 2018', '1.0.0', '4.0.3 and up']\n",
      "\n",
      "\n",
      "['Coloring book moana', 'ART_AND_DESIGN', '3.9', '967', '14M', '500,000+', 'Free', '0', 'Everyone', 'Art & Design;Pretend Play', 'January 15, 2018', '2.0.0', '4.0.3 and up']\n",
      "\n",
      "\n",
      "Number of apps: 10841\n",
      "Number of columns: 13\n"
     ]
    }
   ],
   "source": [
    "### Print the header, first three columns & number of columns and appsfor Google Play Store###\n",
    "print(android_header)\n",
    "print('\\n')\n",
    "explore_data(android, 0, 2, True)"
   ]
  },
  {
   "cell_type": "markdown",
   "metadata": {},
   "source": [
    "The Google Play data set has 10841 rows of data excluding the header within 13 columns (`'App'`, `'Category'`, `'Rating'`, `'Reviews'`, `'Size'`, `'Installs'`, `'Type'`, `'Price'`, `'Content Rating'`, `'Genres'`, `'Last Updated'`, `'Current Ver'`, `'Android Ver'`)"
   ]
  },
  {
   "cell_type": "code",
   "execution_count": 12,
   "metadata": {},
   "outputs": [
    {
     "name": "stdout",
     "output_type": "stream",
     "text": [
      "['id', 'track_name', 'size_bytes', 'currency', 'price', 'rating_count_tot', 'rating_count_ver', 'user_rating', 'user_rating_ver', 'ver', 'cont_rating', 'prime_genre', 'sup_devices.num', 'ipadSc_urls.num', 'lang.num', 'vpp_lic']\n",
      "\n",
      "\n",
      "['284882215', 'Facebook', '389879808', 'USD', '0.0', '2974676', '212', '3.5', '3.5', '95.0', '4+', 'Social Networking', '37', '1', '29', '1']\n",
      "\n",
      "\n",
      "['389801252', 'Instagram', '113954816', 'USD', '0.0', '2161558', '1289', '4.5', '4.0', '10.23', '12+', 'Photo & Video', '37', '0', '29', '1']\n",
      "\n",
      "\n",
      "['529479190', 'Clash of Clans', '116476928', 'USD', '0.0', '2130805', '579', '4.5', '4.5', '9.24.12', '9+', 'Games', '38', '5', '18', '1']\n",
      "\n",
      "\n",
      "['420009108', 'Temple Run', '65921024', 'USD', '0.0', '1724546', '3842', '4.5', '4.0', '1.6.2', '9+', 'Games', '40', '5', '1', '1']\n",
      "\n",
      "\n",
      "Number of apps: 7197\n",
      "Number of columns: 16\n"
     ]
    }
   ],
   "source": [
    "#Print the header and first five columns for Apple Store\n",
    "print(ios_header)\n",
    "print('\\n')\n",
    "explore_data(ios, 0, 4, True)"
   ]
  },
  {
   "cell_type": "markdown",
   "metadata": {},
   "source": [
    "The Apple Store data set has 7197 rows of data excluding the header within 16 columns (`'id'`, `'track_name'`, `'size_bytes'`, `'currency'`, `'price'`, `'rating_count_tot'`, `'rating_count_ver'`, `'user_rating'`, `'user_rating_ver'`, `'ver'`, `'cont_rating'`, `'prime_genre'`, `'sup_devices.num'`, `'ipadSc_urls.num'`, `'lang.num'`, `'vpp_lic'`)"
   ]
  },
  {
   "cell_type": "markdown",
   "metadata": {},
   "source": [
    "## Data cleaning\n",
    "\n",
    "- Removing the row with n/a value\n",
    "- Removing duplicates entities\n",
    "- Removing non-English apps\n",
    "- Isolating the free apps"
   ]
  },
  {
   "cell_type": "markdown",
   "metadata": {},
   "source": [
    "### Removing the row with n/a value\n",
    "\n",
    "The Google Play data set has a dedicated discussion section, and since one of the rows (10472) has an error, the data set needs to be deleted."
   ]
  },
  {
   "cell_type": "code",
   "execution_count": 13,
   "metadata": {},
   "outputs": [
    {
     "name": "stdout",
     "output_type": "stream",
     "text": [
      "['Life Made WI-Fi Touchscreen Photo Frame', '1.9', '19', '3.0M', '1,000+', 'Free', '0', 'Everyone', '', 'February 11, 2018', '1.0.19', '4.0 and up']\n"
     ]
    }
   ],
   "source": [
    "#Checking for the error\n",
    "\n",
    "print(android[10472])"
   ]
  },
  {
   "cell_type": "code",
   "execution_count": 14,
   "metadata": {},
   "outputs": [],
   "source": [
    "#Delete this row\n",
    "\n",
    "del android[10472]"
   ]
  },
  {
   "cell_type": "code",
   "execution_count": 15,
   "metadata": {},
   "outputs": [
    {
     "name": "stdout",
     "output_type": "stream",
     "text": [
      "Number of apps: 10840\n",
      "Number of columns: 13\n"
     ]
    }
   ],
   "source": [
    "#Check if deletion was done properly\n",
    "\n",
    "explore_data(android, 0, 0, True)"
   ]
  },
  {
   "cell_type": "markdown",
   "metadata": {},
   "source": [
    "The deletion was done well since before there were 10841 apps and now ther are 10840"
   ]
  },
  {
   "cell_type": "markdown",
   "metadata": {},
   "source": [
    "### Removing duplicate entries"
   ]
  },
  {
   "cell_type": "code",
   "execution_count": 16,
   "metadata": {},
   "outputs": [
    {
     "name": "stdout",
     "output_type": "stream",
     "text": [
      "Number of duplicates:  1181\n",
      "An example of duplicates:  YouTube Kids\n"
     ]
    }
   ],
   "source": [
    "#Check for duplicates (count if there are some)\n",
    "\n",
    "import random\n",
    "secure_random = random.SystemRandom()\n",
    "\n",
    "duplicate_app_names = []\n",
    "unique_app_names = []\n",
    "\n",
    "for app in android:\n",
    "    app_name = app[0]\n",
    "    if app_name in unique_app_names:\n",
    "        duplicate_app_names.append(app_name)\n",
    "    else:\n",
    "        unique_app_names.append(app_name)\n",
    "        \n",
    "        \n",
    "print('Number of duplicates: ', len(duplicate_app_names))\n",
    "print('An example of duplicates: ', secure_random.choice(duplicate_app_names))"
   ]
  },
  {
   "cell_type": "code",
   "execution_count": 17,
   "metadata": {},
   "outputs": [
    {
     "name": "stdout",
     "output_type": "stream",
     "text": [
      "['Subway Surfers', 'GAME', '4.5', '27722264', '76M', '1,000,000,000+', 'Free', '0', 'Everyone 10+', 'Arcade', 'July 12, 2018', '1.90.0', '4.1 and up']\n",
      "['Subway Surfers', 'GAME', '4.5', '27723193', '76M', '1,000,000,000+', 'Free', '0', 'Everyone 10+', 'Arcade', 'July 12, 2018', '1.90.0', '4.1 and up']\n",
      "['Subway Surfers', 'GAME', '4.5', '27724094', '76M', '1,000,000,000+', 'Free', '0', 'Everyone 10+', 'Arcade', 'July 12, 2018', '1.90.0', '4.1 and up']\n",
      "['Subway Surfers', 'GAME', '4.5', '27725352', '76M', '1,000,000,000+', 'Free', '0', 'Everyone 10+', 'Arcade', 'July 12, 2018', '1.90.0', '4.1 and up']\n",
      "['Subway Surfers', 'GAME', '4.5', '27725352', '76M', '1,000,000,000+', 'Free', '0', 'Everyone 10+', 'Arcade', 'July 12, 2018', '1.90.0', '4.1 and up']\n",
      "['Subway Surfers', 'GAME', '4.5', '27711703', '76M', '1,000,000,000+', 'Free', '0', 'Everyone 10+', 'Arcade', 'July 12, 2018', '1.90.0', '4.1 and up']\n"
     ]
    }
   ],
   "source": [
    "#Check duplicates\n",
    "for app in android:\n",
    "    name = app[0]\n",
    "    if name == 'Subway Surfers':\n",
    "        print(app)"
   ]
  },
  {
   "cell_type": "markdown",
   "metadata": {},
   "source": [
    "Some lists which include `'Subway Surfers'` (an example of app with duplicates) were printed above. It is noticable that the amount of ratings differs in those lists. \n",
    "\n",
    "As per this information, the next steps would aim to keep the app which includes the highest numer of ratings and delete of apps which have lower level."
   ]
  },
  {
   "cell_type": "code",
   "execution_count": 19,
   "metadata": {},
   "outputs": [
    {
     "name": "stdout",
     "output_type": "stream",
     "text": [
      "Expected length:  9659\n"
     ]
    }
   ],
   "source": [
    "#How many apps will we have after deleting duplicates?\n",
    "print('Expected length: ', len(android) - len(duplicate_app_names))"
   ]
  },
  {
   "cell_type": "code",
   "execution_count": 20,
   "metadata": {},
   "outputs": [],
   "source": [
    "#Delete duplicates\n",
    "\n",
    "reviews_max = {}\n",
    "\n",
    "for row in android:\n",
    "    app_name = row[0]\n",
    "    n_reviews = float(row[3])\n",
    "    \n",
    "    if app_name in reviews_max and reviews_max[app_name] < n_reviews:\n",
    "        reviews_max[app_name] = n_reviews\n",
    "        \n",
    "    elif app_name not in reviews_max:\n",
    "        reviews_max[app_name] = n_reviews"
   ]
  },
  {
   "cell_type": "code",
   "execution_count": 21,
   "metadata": {
    "scrolled": true
   },
   "outputs": [
    {
     "name": "stdout",
     "output_type": "stream",
     "text": [
      "True\n"
     ]
    }
   ],
   "source": [
    "# Is the length like expected?\n",
    "if len(reviews_max) == 9659:\n",
    "    print(True)"
   ]
  },
  {
   "cell_type": "markdown",
   "metadata": {},
   "source": [
    "The boolean value of `len(review_max) == 9659` means that the deletion was done properly."
   ]
  },
  {
   "cell_type": "code",
   "execution_count": 22,
   "metadata": {},
   "outputs": [
    {
     "name": "stdout",
     "output_type": "stream",
     "text": [
      "Number of rows after cleaning:  9659\n"
     ]
    }
   ],
   "source": [
    "android_clean = []\n",
    "already_added = []\n",
    "\n",
    "for row in android:\n",
    "    app_name = row[0]\n",
    "    n_reviews = float(row[3])\n",
    "    if (reviews_max[app_name] == n_reviews) and (app_name not in already_added):\n",
    "        android_clean.append(row)\n",
    "        already_added.append(app_name)\n",
    "\n",
    "print('Number of rows after cleaning: ', len(android_clean))"
   ]
  },
  {
   "cell_type": "markdown",
   "metadata": {},
   "source": [
    "### Removing non-English apps"
   ]
  },
  {
   "cell_type": "code",
   "execution_count": 23,
   "metadata": {},
   "outputs": [
    {
     "name": "stdout",
     "output_type": "stream",
     "text": [
      "False\n",
      "False\n",
      "True\n",
      "False\n"
     ]
    }
   ],
   "source": [
    "#Check for non-English apps\n",
    "\n",
    "def is_english(app_name):\n",
    "    \n",
    "    for character in app_name:\n",
    "        if ord(character) > 127:\n",
    "            return False\n",
    "    \n",
    "    return True\n",
    "\n",
    "print(is_english('Docs To Go™ Free Office Suite'))\n",
    "print(is_english('爱奇艺PPS -《欢乐颂2》电视剧热播'))\n",
    "print(is_english('Instagram'))\n",
    "print(is_english('Instachat 😜'))"
   ]
  },
  {
   "cell_type": "markdown",
   "metadata": {},
   "source": [
    "Each sign has its number (for standard English alphabet all letters are below 127)"
   ]
  },
  {
   "cell_type": "code",
   "execution_count": 24,
   "metadata": {},
   "outputs": [
    {
     "name": "stdout",
     "output_type": "stream",
     "text": [
      "8482\n",
      "128540\n"
     ]
    }
   ],
   "source": [
    "# Check for special characters in English app names\n",
    "\n",
    "print(ord('™'))\n",
    "print(ord('😜'))"
   ]
  },
  {
   "cell_type": "markdown",
   "metadata": {},
   "source": [
    "Above signs (`'™'` and `'😜'`) are assigned to numbers above 127 which means that they are not in the standard English alphabet.\n",
    "\n",
    "However, those signs do not show that the name of apps are in different language than English. Those entries cannot be deleted and need to be kept."
   ]
  },
  {
   "cell_type": "code",
   "execution_count": 25,
   "metadata": {},
   "outputs": [
    {
     "name": "stdout",
     "output_type": "stream",
     "text": [
      "True\n",
      "True\n",
      "False\n"
     ]
    }
   ],
   "source": [
    "# Change `is_english` function to include special characters\n",
    "\n",
    "def is_english(app_name):\n",
    "    n_of_special_characters = 0\n",
    "    \n",
    "    for character in app_name:\n",
    "        if ord(character) > 127:\n",
    "            n_of_special_characters += 1\n",
    "    if n_of_special_characters > 3:\n",
    "            return False\n",
    "    else:\n",
    "        return True\n",
    "\n",
    "print(is_english('Docs To Go™ Free Office Suite'))\n",
    "print(is_english('Instachat 😜'))\n",
    "print(is_english('爱奇艺PPS -《欢乐颂2》电视剧热播'))"
   ]
  },
  {
   "cell_type": "code",
   "execution_count": 27,
   "metadata": {},
   "outputs": [
    {
     "name": "stdout",
     "output_type": "stream",
     "text": [
      "['Photo Editor & Candy Camera & Grid & ScrapBook', 'ART_AND_DESIGN', '4.1', '159', '19M', '10,000+', 'Free', '0', 'Everyone', 'Art & Design', 'January 7, 2018', '1.0.0', '4.0.3 and up']\n",
      "\n",
      "\n",
      "['U Launcher Lite – FREE Live Cool Themes, Hide Apps', 'ART_AND_DESIGN', '4.7', '87510', '8.7M', '5,000,000+', 'Free', '0', 'Everyone', 'Art & Design', 'August 1, 2018', '1.2.4', '4.0.3 and up']\n",
      "\n",
      "\n",
      "['Sketch - Draw & Paint', 'ART_AND_DESIGN', '4.5', '215644', '25M', '50,000,000+', 'Free', '0', 'Teen', 'Art & Design', 'June 8, 2018', 'Varies with device', '4.2 and up']\n",
      "\n",
      "\n",
      "Number of apps: 9614\n",
      "Number of columns: 13\n",
      "\n",
      "\n",
      "['284882215', 'Facebook', '389879808', 'USD', '0.0', '2974676', '212', '3.5', '3.5', '95.0', '4+', 'Social Networking', '37', '1', '29', '1']\n",
      "\n",
      "\n",
      "['389801252', 'Instagram', '113954816', 'USD', '0.0', '2161558', '1289', '4.5', '4.0', '10.23', '12+', 'Photo & Video', '37', '0', '29', '1']\n",
      "\n",
      "\n",
      "['529479190', 'Clash of Clans', '116476928', 'USD', '0.0', '2130805', '579', '4.5', '4.5', '9.24.12', '9+', 'Games', '38', '5', '18', '1']\n",
      "\n",
      "\n",
      "Number of apps: 6183\n",
      "Number of columns: 16\n"
     ]
    }
   ],
   "source": [
    "# Update `android_clean` and `ios` with `is_english`\n",
    "\n",
    "#Google Play Store\n",
    "android_clean_english = []\n",
    "\n",
    "for app in android_clean:\n",
    "    app_name = app[0]\n",
    "    if is_english(app_name):\n",
    "        android_clean_english.append(app)\n",
    "        \n",
    "\n",
    "#Apple Store\n",
    "ios_english = []\n",
    "\n",
    "for app in ios:\n",
    "    app_name = app[1]\n",
    "    if is_english(app_name):\n",
    "        ios_english.append(app)\n",
    "        \n",
    "        \n",
    "        \n",
    "explore_data(android_clean_english, 0, 3, True)\n",
    "print('\\n')\n",
    "explore_data(ios_english, 0, 3, True)\n",
    "  "
   ]
  },
  {
   "cell_type": "markdown",
   "metadata": {},
   "source": [
    "The data sets for Google Play Store and App Store were updated to include just English apps."
   ]
  },
  {
   "cell_type": "markdown",
   "metadata": {},
   "source": [
    "### Isolating the free apps"
   ]
  },
  {
   "cell_type": "code",
   "execution_count": 28,
   "metadata": {},
   "outputs": [
    {
     "name": "stdout",
     "output_type": "stream",
     "text": [
      "Number of free apps (Google):  8863\n",
      "Number of paid apps (Google):  751\n",
      "Number of free apps (Apple):  3222\n",
      "Number of paid apps (Apple):  2961\n"
     ]
    }
   ],
   "source": [
    "#Number of the free and non-free apps \n",
    "\n",
    "#Google Play Store\n",
    "\n",
    "free_apps = []\n",
    "\n",
    "for row in android_clean_english:\n",
    "    app_name = row[0]\n",
    "    rate = row[6]\n",
    "    if rate == 'Free':\n",
    "        free_apps.append(app_name)\n",
    "    \n",
    "print('Number of free apps (Google): ', len(free_apps))\n",
    "print('Number of paid apps (Google): ', len(android_clean_english) - len(free_apps))\n",
    "        \n",
    "    \n",
    "#Apple Play Store\n",
    "\n",
    "free_apps = []\n",
    "\n",
    "for row in ios_english:\n",
    "    app_name = row[0]\n",
    "    rate = row[4]\n",
    "    if rate == '0.0':\n",
    "        free_apps.append(app_name)\n",
    "    \n",
    "print('Number of free apps (Apple): ', len(free_apps))\n",
    "print('Number of paid apps (Apple): ', len(ios_english) - len(free_apps))\n",
    "        "
   ]
  },
  {
   "cell_type": "code",
   "execution_count": 29,
   "metadata": {},
   "outputs": [],
   "source": [
    "#Most common genres in each market\n",
    "def freq_table(dataset, index):\n",
    "    table = {}\n",
    "    total = 0\n",
    "    \n",
    "    for row in dataset:\n",
    "        total += 1\n",
    "        value = row[index]\n",
    "        if value in table:\n",
    "            table[value] += 1\n",
    "        else:\n",
    "            table[value] = 1\n",
    "    \n",
    "    table_percentages = {}\n",
    "    for key in table:\n",
    "        percentage = (table[key] / total) * 100\n",
    "        table_percentages[key] = percentage \n",
    "    \n",
    "    return table_percentages\n",
    "\n",
    "\n",
    "def display_table(dataset, index):\n",
    "    table = freq_table(dataset, index)\n",
    "    table_display = []\n",
    "    for key in table:\n",
    "        key_val_as_tuple = (table[key], key)\n",
    "        table_display.append(key_val_as_tuple)\n",
    "        \n",
    "    table_sorted = sorted(table_display, reverse = True)\n",
    "    for entry in table_sorted:\n",
    "        print(entry[1], ':', entry[0])"
   ]
  },
  {
   "cell_type": "code",
   "execution_count": 30,
   "metadata": {
    "scrolled": true
   },
   "outputs": [
    {
     "name": "stdout",
     "output_type": "stream",
     "text": [
      "Games : 54.860100274947435\n",
      "Entertainment : 7.261846999838266\n",
      "Education : 6.6310852337053205\n",
      "Photo & Video : 5.515122109008572\n",
      "Utilities : 3.4449296458030085\n",
      "Productivity : 2.7171276079573023\n",
      "Health & Fitness : 2.6686074721009216\n",
      "Music : 2.215752870774705\n",
      "Social Networking : 2.037845705967977\n",
      "Sports : 1.6820313763545207\n",
      "Lifestyle : 1.6011644832605532\n",
      "Shopping : 1.3747371825974446\n",
      "Weather : 1.1159631246967492\n",
      "Travel : 0.9704027171276078\n",
      "News : 0.9218825812712276\n",
      "Book : 0.8895358240336406\n",
      "Reference : 0.8571890667960537\n",
      "Business : 0.8571890667960537\n",
      "Finance : 0.7924955523208799\n",
      "Food & Drink : 0.7116286592269124\n",
      "Navigation : 0.452854601326217\n",
      "Medical : 0.3396409509946628\n",
      "Catalogs : 0.08086689309396733\n"
     ]
    }
   ],
   "source": [
    "display_table(ios_english, -5)"
   ]
  },
  {
   "cell_type": "markdown",
   "metadata": {},
   "source": [
    "The data represents percentage distribution of apps genres in App Store."
   ]
  },
  {
   "cell_type": "code",
   "execution_count": 57,
   "metadata": {},
   "outputs": [
    {
     "name": "stdout",
     "output_type": "stream",
     "text": [
      "Tools : 8.602038693571874\n",
      "Entertainment : 5.793634283336801\n",
      "Education : 5.231953401289786\n",
      "Business : 4.358227584772207\n",
      "Medical : 4.108591637195756\n",
      "Personalization : 3.900561680882047\n",
      "Productivity : 3.879758685250676\n",
      "Lifestyle : 3.775743707093822\n",
      "Finance : 3.588516746411483\n",
      "Sports : 3.442895776991887\n",
      "Communication : 3.2660703141252343\n",
      "Action : 3.110047846889952\n",
      "Health & Fitness : 2.995631370917412\n",
      "Photography : 2.9124193883919283\n",
      "News & Magazines : 2.600374453921365\n",
      "Social : 2.485957977948825\n",
      "Travel & Local : 2.26752652381943\n",
      "Books & Reference : 2.26752652381943\n",
      "Shopping : 2.090701060952777\n",
      "Simulation : 1.9762845849802373\n",
      "Arcade : 1.9138755980861244\n",
      "Dating : 1.768254628666528\n",
      "Casual : 1.7162471395881007\n",
      "Video Players & Editors : 1.674641148325359\n",
      "Maps & Navigation : 1.3417932182234242\n",
      "Puzzle : 1.2377782400665696\n",
      "Food & Drink : 1.1649677553567712\n",
      "Role Playing : 1.0817557728312877\n",
      "Strategy : 0.9777407946744331\n",
      "Racing : 0.9465363012273768\n",
      "Libraries & Demo : 0.8737258165175785\n",
      "Auto & Vehicles : 0.8737258165175785\n",
      "Weather : 0.8217183274391513\n",
      "House & Home : 0.7593093405450385\n",
      "Adventure : 0.748907842729353\n",
      "Events : 0.6656958602038693\n",
      "Art & Design : 0.5824838776783856\n",
      "Comics : 0.5616808820470147\n",
      "Beauty : 0.5512793842313293\n",
      "Card : 0.48887039733721654\n",
      "Parenting : 0.4784688995215311\n",
      "Board : 0.43686290825878926\n",
      "Casino : 0.40565841481173287\n",
      "Educational;Education : 0.3952569169960474\n",
      "Trivia : 0.384855419180362\n",
      "Educational : 0.384855419180362\n",
      "Education;Education : 0.36405242354899103\n",
      "Casual;Pretend Play : 0.26003744539213647\n",
      "Word : 0.23923444976076555\n",
      "Music : 0.1976284584980237\n",
      "Puzzle;Brain Games : 0.1768254628666528\n",
      "Education;Pretend Play : 0.1768254628666528\n",
      "Racing;Action & Adventure : 0.16642396505096732\n",
      "Entertainment;Music & Video : 0.15602246723528188\n",
      "Board;Brain Games : 0.1456209694195964\n",
      "Arcade;Action & Adventure : 0.1456209694195964\n",
      "Educational;Pretend Play : 0.13521947160391096\n",
      "Casual;Action & Adventure : 0.13521947160391096\n",
      "Casual;Brain Games : 0.1248179737882255\n",
      "Action;Action & Adventure : 0.1248179737882255\n",
      "Simulation;Action & Adventure : 0.0728104847097982\n",
      "Parenting;Education : 0.0728104847097982\n",
      "Entertainment;Brain Games : 0.0728104847097982\n",
      "Parenting;Music & Video : 0.06240898689411275\n",
      "Educational;Brain Games : 0.06240898689411275\n",
      "Education;Creativity : 0.06240898689411275\n",
      "Casual;Creativity : 0.06240898689411275\n",
      "Art & Design;Creativity : 0.06240898689411275\n",
      "Educational;Creativity : 0.052007489078427296\n",
      "Adventure;Action & Adventure : 0.052007489078427296\n",
      "Sports;Action & Adventure : 0.04160599126274183\n",
      "Role Playing;Pretend Play : 0.04160599126274183\n",
      "Role Playing;Action & Adventure : 0.04160599126274183\n",
      "Education;Brain Games : 0.04160599126274183\n",
      "Education;Action & Adventure : 0.04160599126274183\n",
      "Simulation;Pretend Play : 0.031204493447056374\n",
      "Simulation;Education : 0.031204493447056374\n",
      "Puzzle;Action & Adventure : 0.031204493447056374\n",
      "Music;Music & Video : 0.031204493447056374\n",
      "Entertainment;Creativity : 0.031204493447056374\n",
      "Entertainment;Action & Adventure : 0.031204493447056374\n",
      "Educational;Action & Adventure : 0.031204493447056374\n",
      "Education;Music & Video : 0.031204493447056374\n",
      "Casual;Education : 0.031204493447056374\n",
      "Board;Action & Adventure : 0.031204493447056374\n",
      "Video Players & Editors;Music & Video : 0.020802995631370915\n",
      "Strategy;Action & Adventure : 0.020802995631370915\n",
      "Puzzle;Creativity : 0.020802995631370915\n",
      "Entertainment;Pretend Play : 0.020802995631370915\n",
      "Card;Action & Adventure : 0.020802995631370915\n",
      "Books & Reference;Education : 0.020802995631370915\n",
      "Video Players & Editors;Creativity : 0.010401497815685458\n",
      "Trivia;Education : 0.010401497815685458\n",
      "Travel & Local;Action & Adventure : 0.010401497815685458\n",
      "Tools;Education : 0.010401497815685458\n",
      "Strategy;Education : 0.010401497815685458\n",
      "Strategy;Creativity : 0.010401497815685458\n",
      "Role Playing;Education : 0.010401497815685458\n",
      "Role Playing;Brain Games : 0.010401497815685458\n",
      "Racing;Pretend Play : 0.010401497815685458\n",
      "Puzzle;Education : 0.010401497815685458\n",
      "Parenting;Brain Games : 0.010401497815685458\n",
      "Music & Audio;Music & Video : 0.010401497815685458\n",
      "Lifestyle;Pretend Play : 0.010401497815685458\n",
      "Lifestyle;Education : 0.010401497815685458\n",
      "Health & Fitness;Education : 0.010401497815685458\n",
      "Health & Fitness;Action & Adventure : 0.010401497815685458\n",
      "Entertainment;Education : 0.010401497815685458\n",
      "Communication;Creativity : 0.010401497815685458\n",
      "Comics;Creativity : 0.010401497815685458\n",
      "Casual;Music & Video : 0.010401497815685458\n",
      "Books & Reference;Creativity : 0.010401497815685458\n",
      "Board;Pretend Play : 0.010401497815685458\n",
      "Art & Design;Pretend Play : 0.010401497815685458\n",
      "Art & Design;Action & Adventure : 0.010401497815685458\n",
      "Arcade;Pretend Play : 0.010401497815685458\n",
      "Adventure;Education : 0.010401497815685458\n",
      "Adventure;Brain Games : 0.010401497815685458\n"
     ]
    }
   ],
   "source": [
    "display_table(android_clean_english, -4)"
   ]
  },
  {
   "cell_type": "code",
   "execution_count": 58,
   "metadata": {},
   "outputs": [
    {
     "name": "stdout",
     "output_type": "stream",
     "text": [
      "FAMILY : 19.325982941543582\n",
      "GAME : 9.819013938007073\n",
      "TOOLS : 8.61244019138756\n",
      "BUSINESS : 4.358227584772207\n",
      "MEDICAL : 4.108591637195756\n",
      "PERSONALIZATION : 3.900561680882047\n",
      "PRODUCTIVITY : 3.879758685250676\n",
      "LIFESTYLE : 3.786145204909507\n",
      "FINANCE : 3.588516746411483\n",
      "SPORTS : 3.3804867900977738\n",
      "COMMUNICATION : 3.2660703141252343\n",
      "HEALTH_AND_FITNESS : 2.995631370917412\n",
      "PHOTOGRAPHY : 2.9124193883919283\n",
      "NEWS_AND_MAGAZINES : 2.600374453921365\n",
      "SOCIAL : 2.485957977948825\n",
      "TRAVEL_AND_LOCAL : 2.2779280216351157\n",
      "BOOKS_AND_REFERENCE : 2.26752652381943\n",
      "SHOPPING : 2.090701060952777\n",
      "DATING : 1.768254628666528\n",
      "VIDEO_PLAYERS : 1.6954441439567296\n",
      "MAPS_AND_NAVIGATION : 1.3417932182234242\n",
      "FOOD_AND_DRINK : 1.1649677553567712\n",
      "EDUCATION : 1.1025587684626585\n",
      "ENTERTAINMENT : 0.9049303099646349\n",
      "LIBRARIES_AND_DEMO : 0.8737258165175785\n",
      "AUTO_AND_VEHICLES : 0.8737258165175785\n",
      "WEATHER : 0.8217183274391513\n",
      "HOUSE_AND_HOME : 0.7593093405450385\n",
      "EVENTS : 0.6656958602038693\n",
      "PARENTING : 0.6240898689411275\n",
      "ART_AND_DESIGN : 0.6240898689411275\n",
      "COMICS : 0.5720823798627002\n",
      "BEAUTY : 0.5512793842313293\n"
     ]
    }
   ],
   "source": [
    "display_table(android_clean_english, 1) # Category"
   ]
  },
  {
   "cell_type": "markdown",
   "metadata": {},
   "source": [
    "The data represents percentage distribution of apps genres and category\n",
    "in Google Play Store."
   ]
  },
  {
   "cell_type": "code",
   "execution_count": 32,
   "metadata": {},
   "outputs": [
    {
     "name": "stdout",
     "output_type": "stream",
     "text": [
      "Social Networking : 60253.84920634921\n",
      "Photo & Video : 14688.715542521993\n",
      "Games : 15586.759433962265\n",
      "Music : 29047.109489051094\n",
      "Reference : 27037.188679245282\n",
      "Health & Fitness : 10802.157575757576\n",
      "Weather : 23145.246376811596\n",
      "Utilities : 7927.525821596244\n",
      "Travel : 19030.183333333334\n",
      "Shopping : 26635.011764705883\n",
      "News : 16980.315789473683\n",
      "Navigation : 19370.821428571428\n",
      "Lifestyle : 8930.373737373737\n",
      "Entertainment : 8862.409799554565\n",
      "Food & Drink : 19934.386363636364\n",
      "Sports : 15350.913461538461\n",
      "Book : 10359.2\n",
      "Finance : 23353.530612244896\n",
      "Education : 2472.278048780488\n",
      "Productivity : 8508.089285714286\n",
      "Business : 5149.320754716981\n",
      "Catalogs : 3465.0\n",
      "Medical : 648.952380952381\n"
     ]
    }
   ],
   "source": [
    "#The average number of user ratings per app genre on the App Store\n",
    "\n",
    "genres_ios = freq_table(ios_english, -5)\n",
    "\n",
    "for genre in genres_ios:\n",
    "    total = 0\n",
    "    len_genre = 0\n",
    "    for app in ios_english:\n",
    "        genre_app = app[-5]\n",
    "        if genre_app == genre:            \n",
    "            n_ratings = float(app[5])\n",
    "            total += n_ratings\n",
    "            len_genre += 1\n",
    "    avg_n_ratings = total / len_genre\n",
    "    print(genre, ':', avg_n_ratings)"
   ]
  },
  {
   "cell_type": "markdown",
   "metadata": {},
   "source": [
    "#### Conclusions\n",
    "\n",
    "The highest number of user ratings per app on the App Store were within entertirement apps including social networking, photo & video apps related and game apps."
   ]
  },
  {
   "cell_type": "code",
   "execution_count": 61,
   "metadata": {},
   "outputs": [
    {
     "name": "stdout",
     "output_type": "stream",
     "text": [
      "AUTO_AND_VEHICLES : 632501.3214285715\n",
      "FOOD_AND_DRINK : 1891060.2767857143\n",
      "SPORTS : 3373767.6861538463\n",
      "ART_AND_DESIGN : 1887285.0\n",
      "HOUSE_AND_HOME : 1331540.5616438356\n",
      "DATING : 828971.2176470588\n",
      "TRAVEL_AND_LOCAL : 13218662.767123288\n",
      "WEATHER : 4570892.658227848\n",
      "BUSINESS : 1663758.627684964\n",
      "LIFESTYLE : 1369954.7774725275\n",
      "HEALTH_AND_FITNESS : 3972300.388888889\n",
      "MAPS_AND_NAVIGATION : 3900634.7286821706\n",
      "SOCIAL : 22961790.384937238\n",
      "MEDICAL : 96944.49873417722\n",
      "SHOPPING : 6966908.880597015\n",
      "PERSONALIZATION : 4086652.4853333333\n",
      "COMICS : 817657.2727272727\n",
      "EDUCATION : 1782566.0377358492\n",
      "BOOKS_AND_REFERENCE : 7641777.871559633\n",
      "LIBRARIES_AND_DEMO : 630903.6904761905\n",
      "BEAUTY : 513151.88679245283\n",
      "FAMILY : 3345018.516684607\n",
      "TOOLS : 9785955.211352658\n",
      "PARENTING : 525351.8333333334\n",
      "VIDEO_PLAYERS : 24121489.079754602\n",
      "PRODUCTIVITY : 15530942.008042896\n",
      "PHOTOGRAPHY : 16636241.267857144\n",
      "COMMUNICATION : 35153714.17515924\n",
      "NEWS_AND_MAGAZINES : 9472807.04\n",
      "ENTERTAINMENT : 11375402.298850575\n",
      "EVENTS : 249580.640625\n",
      "FINANCE : 1319851.4028985507\n",
      "GAME : 14256217.600635594\n"
     ]
    }
   ],
   "source": [
    "#The average number of user ratings per app genre on the Google Play Store\n",
    "\n",
    "category_android = freq_table(android_clean_english, 1)\n",
    "\n",
    "for category in category_android:\n",
    "    total = 0\n",
    "    len_category = 0\n",
    "    for app in android_clean_english:\n",
    "        category_app = app[1]\n",
    "        if category_app == category:            \n",
    "            n_installs = app[5]\n",
    "            n_installs = n_installs.replace('+', '')\n",
    "            n_installs = n_installs.replace(',', '')\n",
    "            total += float(n_installs)\n",
    "            len_category += 1\n",
    "    avg_n_ratings = total / len_category\n",
    "    print(category, ':', avg_n_ratings)"
   ]
  },
  {
   "cell_type": "markdown",
   "metadata": {
    "collapsed": true
   },
   "source": [
    "#### Conclusions\n",
    "\n",
    "The highest number of user ratings per app on the Google App Store were within video apps but also educational/ growth apps including those for books or education."
   ]
  }
 ],
 "metadata": {
  "kernelspec": {
   "display_name": "Python 3",
   "language": "python",
   "name": "python3"
  },
  "language_info": {
   "codemirror_mode": {
    "name": "ipython",
    "version": 3
   },
   "file_extension": ".py",
   "mimetype": "text/x-python",
   "name": "python",
   "nbconvert_exporter": "python",
   "pygments_lexer": "ipython3",
   "version": "3.7.4"
  }
 },
 "nbformat": 4,
 "nbformat_minor": 2
}
